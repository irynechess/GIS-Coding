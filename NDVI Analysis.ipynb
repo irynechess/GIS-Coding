{
 "cells": [
  {
   "cell_type": "code",
   "execution_count": 1,
   "id": "1483009b-51ca-42c6-8c70-e8aa7a042562",
   "metadata": {},
   "outputs": [],
   "source": [
    "import ee\n",
    "import geemap\n",
    "# Authenticate with Earth Engine\n",
    "ee.Authenticate()\n",
    "ee.Initialize()"
   ]
  },
  {
   "cell_type": "code",
   "execution_count": 2,
   "id": "7f657baf-35ae-489b-8fce-8cc68c739fd4",
   "metadata": {},
   "outputs": [
    {
     "data": {
      "text/html": [
       "\n",
       "            <style>\n",
       "                .geemap-dark {\n",
       "                    --jp-widgets-color: white;\n",
       "                    --jp-widgets-label-color: white;\n",
       "                    --jp-ui-font-color1: white;\n",
       "                    --jp-layout-color2: #454545;\n",
       "                    background-color: #383838;\n",
       "                }\n",
       "\n",
       "                .geemap-dark .jupyter-button {\n",
       "                    --jp-layout-color3: #383838;\n",
       "                }\n",
       "\n",
       "                .geemap-colab {\n",
       "                    background-color: var(--colab-primary-surface-color, white);\n",
       "                }\n",
       "\n",
       "                .geemap-colab .jupyter-button {\n",
       "                    --jp-layout-color3: var(--colab-primary-surface-color, white);\n",
       "                }\n",
       "            </style>\n",
       "            "
      ],
      "text/plain": [
       "<IPython.core.display.HTML object>"
      ]
     },
     "metadata": {},
     "output_type": "display_data"
    }
   ],
   "source": [
    "# Define the asset ID of the FeatureCollection containing your polygons\n",
    "fc_asset_id = 'projects/ee-chesangirine55/assets/TaitaTaveta2'\n",
    "\n",
    "# Load the FeatureCollection\n",
    "fc = ee.FeatureCollection(fc_asset_id)\n",
    "\n",
    "# Get information about the FeatureCollection\n",
    "fc_info = fc.getInfo()\n",
    "\n",
    "# Print information about the FeatureCollection\n",
    "#print(\"Feature Collection Information:\")\n",
    "#print(fc_info)\n"
   ]
  },
  {
   "cell_type": "code",
   "execution_count": 3,
   "id": "590c8331-8bb1-4473-bf67-0b21177018bb",
   "metadata": {},
   "outputs": [
    {
     "data": {
      "text/html": [
       "\n",
       "            <style>\n",
       "                .geemap-dark {\n",
       "                    --jp-widgets-color: white;\n",
       "                    --jp-widgets-label-color: white;\n",
       "                    --jp-ui-font-color1: white;\n",
       "                    --jp-layout-color2: #454545;\n",
       "                    background-color: #383838;\n",
       "                }\n",
       "\n",
       "                .geemap-dark .jupyter-button {\n",
       "                    --jp-layout-color3: #383838;\n",
       "                }\n",
       "\n",
       "                .geemap-colab {\n",
       "                    background-color: var(--colab-primary-surface-color, white);\n",
       "                }\n",
       "\n",
       "                .geemap-colab .jupyter-button {\n",
       "                    --jp-layout-color3: var(--colab-primary-surface-color, white);\n",
       "                }\n",
       "            </style>\n",
       "            "
      ],
      "text/plain": [
       "<IPython.core.display.HTML object>"
      ]
     },
     "metadata": {},
     "output_type": "display_data"
    },
    {
     "name": "stderr",
     "output_type": "stream",
     "text": [
      "C:\\Users\\ADMIN\\miniconda3i\\envs\\ee\\Lib\\site-packages\\ee\\deprecation.py:207: DeprecationWarning: \n",
      "\n",
      "Attention required for COPERNICUS/S2! You are using a deprecated asset.\n",
      "To make sure your code keeps working, please update it.\n",
      "Learn more: https://developers.google.com/earth-engine/datasets/catalog/COPERNICUS_S2\n",
      "\n",
      "  warnings.warn(warning, category=DeprecationWarning)\n"
     ]
    },
    {
     "name": "stdout",
     "output_type": "stream",
     "text": [
      "Number of images: 6\n"
     ]
    },
    {
     "data": {
      "application/vnd.jupyter.widget-view+json": {
       "model_id": "a3ec32412a5045e38c16a9c678b52c5f",
       "version_major": 2,
       "version_minor": 0
      },
      "text/plain": [
       "Map(center=[-3.4355456688820065, 38.41859110288993], controls=(WidgetControl(options=['position', 'transparent…"
      ]
     },
     "execution_count": 3,
     "metadata": {},
     "output_type": "execute_result"
    }
   ],
   "source": [
    "import ee\n",
    "import geemap\n",
    "\n",
    "# Initialize Earth Engine\n",
    "ee.Initialize()\n",
    "\n",
    "# Define the asset ID of the FeatureCollection containing your polygon\n",
    "fc_asset_id = 'projects/ee-chesangirine55/assets/TaitaTaveta2'\n",
    "\n",
    "# Load the FeatureCollection\n",
    "fc = ee.FeatureCollection(fc_asset_id)\n",
    "\n",
    "# Get the first feature (assuming there's only one polygon in the collection)\n",
    "#polygon = fc.first()\n",
    "\n",
    "# Get the geometry of the polygon\n",
    "geometry = fc.geometry()\n",
    "\n",
    "# Define date range\n",
    "start_date = '2022-04-01'\n",
    "end_date = '2022-05-05'\n",
    "\n",
    "# Load Sentinel-2 image collection\n",
    "s2 = ee.ImageCollection('COPERNICUS/S2')\n",
    "filtered_s2 = s2.filterBounds(geometry)\\\n",
    "                 .filterDate(start_date, end_date)\\\n",
    "                 .filterMetadata('CLOUDY_PIXEL_PERCENTAGE', 'less_than', 15)\n",
    "\n",
    "# Clip images to the polygon\n",
    "clipped_s2 = filtered_s2.map(lambda image: image.clip(geometry))\n",
    "\n",
    "# Print the number of images in the filtered and clipped collection\n",
    "print(\"Number of images:\", clipped_s2.size().getInfo())\n",
    "\n",
    "# Visualize the first 5 images in the collection\n",
    "Map = geemap.Map()\n",
    "Map.centerObject(geometry, zoom=8)\n",
    "\n",
    "# Get first 5 images\n",
    "images = clipped_s2.toList(5)\n",
    "\n",
    "for i in range(5):\n",
    "    image = ee.Image(images.get(i))\n",
    "    Map.addLayer(image, {'bands': ['B4', 'B3', 'B2'], 'min': 0, 'max': 3000}, 'Image ' + str(i+1))\n",
    "\n",
    "#Map.addLayer(geometry, {}, 'Polygon')\n",
    "Map.addLayerControl()\n",
    "Map\n"
   ]
  },
  {
   "cell_type": "code",
   "execution_count": 4,
   "id": "7b2998da-9057-4671-a624-b10e4d166dd1",
   "metadata": {},
   "outputs": [
    {
     "data": {
      "text/html": [
       "\n",
       "            <style>\n",
       "                .geemap-dark {\n",
       "                    --jp-widgets-color: white;\n",
       "                    --jp-widgets-label-color: white;\n",
       "                    --jp-ui-font-color1: white;\n",
       "                    --jp-layout-color2: #454545;\n",
       "                    background-color: #383838;\n",
       "                }\n",
       "\n",
       "                .geemap-dark .jupyter-button {\n",
       "                    --jp-layout-color3: #383838;\n",
       "                }\n",
       "\n",
       "                .geemap-colab {\n",
       "                    background-color: var(--colab-primary-surface-color, white);\n",
       "                }\n",
       "\n",
       "                .geemap-colab .jupyter-button {\n",
       "                    --jp-layout-color3: var(--colab-primary-surface-color, white);\n",
       "                }\n",
       "            </style>\n",
       "            "
      ],
      "text/plain": [
       "<IPython.core.display.HTML object>"
      ]
     },
     "metadata": {},
     "output_type": "display_data"
    },
    {
     "data": {
      "application/vnd.jupyter.widget-view+json": {
       "model_id": "cfba914f3edc4e11a29276334f62abc1",
       "version_major": 2,
       "version_minor": 0
      },
      "text/plain": [
       "Map(center=[1.269023644853747, 35.19263182187535], controls=(WidgetControl(options=['position', 'transparent_b…"
      ]
     },
     "execution_count": 4,
     "metadata": {},
     "output_type": "execute_result"
    }
   ],
   "source": [
    "import ee\n",
    "import geemap\n",
    "\n",
    "# Initialize Earth Engine\n",
    "ee.Initialize()\n",
    "\n",
    "# Define the asset ID of the FeatureCollection containing your polygon\n",
    "fc_asset_id = 'projects/ee-chesangirine55/assets/kamatiraboundary'\n",
    "\n",
    "# Load the FeatureCollection\n",
    "fc = ee.FeatureCollection(fc_asset_id)\n",
    "\n",
    "# Get the geometry of the polygon\n",
    "geometry = fc.geometry()\n",
    "\n",
    "# Define date range\n",
    "start_date = '2022-04-01'\n",
    "end_date = '2022-05-05'\n",
    "\n",
    "# Load Sentinel-2 image collection\n",
    "s2 = ee.ImageCollection('COPERNICUS/S2')\n",
    "filtered_s2 = s2.filterBounds(geometry)\\\n",
    "                 .filterDate(start_date, end_date)\\\n",
    "                 .filterMetadata('CLOUDY_PIXEL_PERCENTAGE', 'less_than', 15)\n",
    "\n",
    "# Clip images to the polygon\n",
    "clipped_s2 = filtered_s2.map(lambda image: image.clip(geometry))\n",
    "\n",
    "# Get the first image from the collection\n",
    "first_image = clipped_s2.first()\n",
    "\n",
    "# Visualize the original image (for reference)\n",
    "Map = geemap.Map()\n",
    "Map.centerObject(geometry, zoom=8)\n",
    "Map.addLayer(first_image, {'bands': ['B4', 'B3', 'B2'], 'min': 0, 'max': 3000}, 'First Image (RGB)')\n",
    "\n",
    "# ---------------------- Clustering (K-Means) ----------------------\n",
    "\n",
    "# Sample the pixels from the selected image for clustering\n",
    "sampled = first_image.sample(\n",
    "    region=geometry,  # The region of interest (polygon)\n",
    "    scale=10,         # Sampling scale in meters\n",
    "    numPixels=5000    # Number of pixels to sample for clustering\n",
    ")\n",
    "\n",
    "# Perform K-Means clustering with 3 clusters\n",
    "num_clusters = 3\n",
    "clusterer = ee.Clusterer.wekaKMeans(num_clusters).train(sampled)\n",
    "clustered = first_image.cluster(clusterer)\n",
    "\n",
    "# Define visualization parameters for the clustered image\n",
    "cluster_vis = {\n",
    "    'min': 0,\n",
    "    'max': num_clusters - 1,  # Since we have 3 classes (0, 1, 2)\n",
    "    'palette': ['red', 'green', 'blue']\n",
    "}\n",
    "\n",
    "# Add the clustering result to the map\n",
    "Map.addLayer(clustered, cluster_vis, 'K-Means Clustering (3 Classes)')\n",
    "\n",
    "# Add the original image to the map (RGB)\n",
    "Map.addLayer(first_image, {'bands': ['B4', 'B3', 'B2'], 'min': 0, 'max': 3000}, 'Original Image (RGB)')\n",
    "\n",
    "# Add Layer Control\n",
    "Map.addLayerControl()\n",
    "\n",
    "# Display the map\n",
    "Map\n"
   ]
  },
  {
   "cell_type": "code",
   "execution_count": 5,
   "id": "d7ff8f24-a113-4567-b895-907a97162787",
   "metadata": {},
   "outputs": [
    {
     "data": {
      "text/html": [
       "\n",
       "            <style>\n",
       "                .geemap-dark {\n",
       "                    --jp-widgets-color: white;\n",
       "                    --jp-widgets-label-color: white;\n",
       "                    --jp-ui-font-color1: white;\n",
       "                    --jp-layout-color2: #454545;\n",
       "                    background-color: #383838;\n",
       "                }\n",
       "\n",
       "                .geemap-dark .jupyter-button {\n",
       "                    --jp-layout-color3: #383838;\n",
       "                }\n",
       "\n",
       "                .geemap-colab {\n",
       "                    background-color: var(--colab-primary-surface-color, white);\n",
       "                }\n",
       "\n",
       "                .geemap-colab .jupyter-button {\n",
       "                    --jp-layout-color3: var(--colab-primary-surface-color, white);\n",
       "                }\n",
       "            </style>\n",
       "            "
      ],
      "text/plain": [
       "<IPython.core.display.HTML object>"
      ]
     },
     "metadata": {},
     "output_type": "display_data"
    },
    {
     "data": {
      "application/vnd.jupyter.widget-view+json": {
       "model_id": "ced1d4dd059842749651340aa7da859b",
       "version_major": 2,
       "version_minor": 0
      },
      "text/plain": [
       "Map(center=[1.269023644853747, 35.19263182187535], controls=(WidgetControl(options=['position', 'transparent_b…"
      ]
     },
     "execution_count": 5,
     "metadata": {},
     "output_type": "execute_result"
    }
   ],
   "source": [
    "import ee\n",
    "import geemap\n",
    "\n",
    "# Initialize Earth Engine\n",
    "ee.Initialize()\n",
    "\n",
    "# Define the asset ID of the FeatureCollection containing your polygon\n",
    "fc_asset_id = 'projects/ee-chesangirine55/assets/kamatiraboundary'\n",
    "\n",
    "# Load the FeatureCollection\n",
    "fc = ee.FeatureCollection(fc_asset_id)\n",
    "\n",
    "# Get the geometry of the polygon\n",
    "geometry = fc.geometry()\n",
    "\n",
    "# Define date range\n",
    "start_date = '2024-10-01'\n",
    "end_date = '2025-01-20'\n",
    "\n",
    "# Load Sentinel-2 image collection\n",
    "s2 = ee.ImageCollection('COPERNICUS/S2')\n",
    "filtered_s2 = s2.filterBounds(geometry)\\\n",
    "                 .filterDate(start_date, end_date)\\\n",
    "                 .filterMetadata('CLOUDY_PIXEL_PERCENTAGE', 'less_than', 5)\n",
    "\n",
    "# Clip images to the polygon\n",
    "clipped_s2 = filtered_s2.map(lambda image: image.clip(geometry))\n",
    "\n",
    "# Get the first image from the collection\n",
    "first_image = clipped_s2.first()\n",
    "\n",
    "# Visualize the original image (for reference)\n",
    "Map = geemap.Map()\n",
    "Map.centerObject(geometry, zoom=8)\n",
    "Map.addLayer(first_image, {'bands': ['B4', 'B3', 'B2'], 'min': 0, 'max': 3000}, 'Original Image (RGB)')\n",
    "\n",
    "# ---------------------- Upscaling to 1-meter resolution ----------------------\n",
    "\n",
    "# Reproject to 1-meter resolution (upscale)\n",
    "upscaled_image = first_image.reproject(crs='EPSG:4326', scale=1)\n",
    "\n",
    "# Visualize the upscaled image at 1-meter resolution\n",
    "Map.addLayer(upscaled_image, {'bands': ['B4', 'B3', 'B2'], 'min': 0, 'max': 3000}, 'Upscaled Image (1-meter)')\n",
    "\n",
    "# Add Layer Control\n",
    "Map.addLayerControl()\n",
    "\n",
    "# Display the map\n",
    "Map\n"
   ]
  },
  {
   "cell_type": "code",
   "execution_count": 6,
   "id": "8dcbfb76-0032-43e4-9b5f-e8c946141a76",
   "metadata": {},
   "outputs": [
    {
     "data": {
      "text/html": [
       "\n",
       "            <style>\n",
       "                .geemap-dark {\n",
       "                    --jp-widgets-color: white;\n",
       "                    --jp-widgets-label-color: white;\n",
       "                    --jp-ui-font-color1: white;\n",
       "                    --jp-layout-color2: #454545;\n",
       "                    background-color: #383838;\n",
       "                }\n",
       "\n",
       "                .geemap-dark .jupyter-button {\n",
       "                    --jp-layout-color3: #383838;\n",
       "                }\n",
       "\n",
       "                .geemap-colab {\n",
       "                    background-color: var(--colab-primary-surface-color, white);\n",
       "                }\n",
       "\n",
       "                .geemap-colab .jupyter-button {\n",
       "                    --jp-layout-color3: var(--colab-primary-surface-color, white);\n",
       "                }\n",
       "            </style>\n",
       "            "
      ],
      "text/plain": [
       "<IPython.core.display.HTML object>"
      ]
     },
     "metadata": {},
     "output_type": "display_data"
    },
    {
     "name": "stdout",
     "output_type": "stream",
     "text": [
      "Feature ID: None\n",
      "Geometry: {'type': 'Polygon', 'coordinates': [[[35.146130655651405, 1.2707841895954126], [35.14685302368651, 1.2688092901137216], [35.14799010288401, 1.2674451401591884], [35.14916727820489, 1.26735153924897], [35.15277019739734, 1.264605386720509], [35.157991871304915, 1.2606288624618498], [35.165282452004256, 1.255444161293662], [35.172898649527, 1.2530947660470813], [35.1783208915973, 1.255961292852631], [35.180314086588666, 1.2578247689459106], [35.18620011241848, 1.2567280872655118], [35.19024898248702, 1.257169387076774], [35.19138161086418, 1.2588010279671342], [35.194409286235775, 1.2605887249405323], [35.1971338397432, 1.258591531369334], [35.202533787270845, 1.256420432147167], [35.20421930676472, 1.256799417555865], [35.20617238347019, 1.256340238689179], [35.20752349319732, 1.2570133905983987], [35.20861152640876, 1.258475639072616], [35.209784322186124, 1.2585201634077419], [35.21239290737897, 1.2588188832503349], [35.21712393992468, 1.2578158193389413], [35.21924205504426, 1.2594563543225412], [35.219665638038045, 1.2625323885200967], [35.22188631109331, 1.2633259388722913], [35.22381708959373, 1.2645206905099813], [35.23183006487364, 1.266994891886873], [35.231892519761026, 1.2666070573040686], [35.23277099096634, 1.2671197241744394], [35.232775434016794, 1.266384117077022], [35.234469895486804, 1.2659650953729416], [35.238166439074405, 1.2672668470068034], [35.23762249243985, 1.2681941043320704], [35.239575536791364, 1.2733698425732418], [35.23931249586141, 1.2792454857452122], [35.23991888022776, 1.279633340132619], [35.2279060430656, 1.2906534579085145], [35.2266085021175, 1.2869532944041937], [35.22705443193374, 1.2822055938898669], [35.222916305567786, 1.279343527239497], [35.2207447922954, 1.2801861232471905], [35.21600918695944, 1.2773731118114917], [35.215612332964284, 1.2757682148206053], [35.21299487693001, 1.2739760942108453], [35.20706420892361, 1.2722642462854608], [35.200919601295155, 1.2695359685670167], [35.198052431756274, 1.2699638890728957], [35.19465007642422, 1.2699550003597417], [35.19258106962655, 1.2710784131552941], [35.18932594268712, 1.2720413374292234], [35.18603956938024, 1.2753491550324103], [35.18070649568107, 1.2764904306394271], [35.179297404568516, 1.274992525063606], [35.1699199403542, 1.2692015806183043], [35.16513084583733, 1.2716044390889216], [35.165906744329504, 1.2757726785984], [35.16513084583733, 1.2857719433648462], [35.16563919104902, 1.2885983045097447], [35.161438684816694, 1.2912508012945854], [35.1627363211239, 1.2881257906941956], [35.1583797708045, 1.2844702560049983], [35.15640442643459, 1.284951685069227], [35.15453157346819, 1.2829277930653318], [35.15428185655884, 1.2801147735484986], [35.15347924993275, 1.2788665544409483], [35.153126990030756, 1.2767846659468314], [35.146130655651405, 1.2707841895954126]]]}\n"
     ]
    }
   ],
   "source": [
    "import ee\n",
    "\n",
    "# Initialize Earth Engine\n",
    "ee.Initialize()\n",
    "\n",
    "# Load the FeatureCollection containing the polygons\n",
    "fc = ee.FeatureCollection('projects/ee-chesangirine55/assets/kamatiraboundary')\n",
    "\n",
    "# Get the list of features from the FeatureCollection as a client-side list\n",
    "features_list = fc.toList(fc.size())\n",
    "\n",
    "# Iterate over the features and print their geometries\n",
    "for i in range(features_list.size().getInfo()):\n",
    "    feature = ee.Feature(features_list.get(i))\n",
    "    feature_id = feature.get('id').getInfo()  # Assuming 'id' is a property in your features\n",
    "    geometry = feature.geometry().getInfo()\n",
    "    \n",
    "    print(f'Feature ID: {feature_id}')\n",
    "    print('Geometry:', geometry)\n"
   ]
  },
  {
   "cell_type": "code",
   "execution_count": 46,
   "id": "0ff4ab42-aa5d-448f-86d5-b7466df11088",
   "metadata": {},
   "outputs": [
    {
     "data": {
      "text/html": [
       "\n",
       "            <style>\n",
       "                .geemap-dark {\n",
       "                    --jp-widgets-color: white;\n",
       "                    --jp-widgets-label-color: white;\n",
       "                    --jp-ui-font-color1: white;\n",
       "                    --jp-layout-color2: #454545;\n",
       "                    background-color: #383838;\n",
       "                }\n",
       "\n",
       "                .geemap-dark .jupyter-button {\n",
       "                    --jp-layout-color3: #383838;\n",
       "                }\n",
       "\n",
       "                .geemap-colab {\n",
       "                    background-color: var(--colab-primary-surface-color, white);\n",
       "                }\n",
       "\n",
       "                .geemap-colab .jupyter-button {\n",
       "                    --jp-layout-color3: var(--colab-primary-surface-color, white);\n",
       "                }\n",
       "            </style>\n",
       "            "
      ],
      "text/plain": [
       "<IPython.core.display.HTML object>"
      ]
     },
     "metadata": {},
     "output_type": "display_data"
    },
    {
     "name": "stdout",
     "output_type": "stream",
     "text": [
      "Number of images: 30\n"
     ]
    },
    {
     "data": {
      "application/vnd.jupyter.widget-view+json": {
       "model_id": "253683a3c0194312afb45507ecfdba1d",
       "version_major": 2,
       "version_minor": 0
      },
      "text/plain": [
       "Map(center=[44.42044926592382, 15.582487187574698], controls=(WidgetControl(options=['position', 'transparent_…"
      ]
     },
     "execution_count": 46,
     "metadata": {},
     "output_type": "execute_result"
    }
   ],
   "source": [
    "import ee\n",
    "import geemap\n",
    "\n",
    "# Initialize Earth Engine\n",
    "ee.Initialize()\n",
    "\n",
    "# Define the asset ID of the FeatureCollection containing your polygon\n",
    "fc_asset_id = 'users/zebrinasamy/GospicParcelsOne'\n",
    "\n",
    "# Load the FeatureCollection\n",
    "fc = ee.FeatureCollection(fc_asset_id)\n",
    "\n",
    "# Define the ID of the feature you want to select\n",
    "feature_id = 12345  # Replace with the desired feature ID\n",
    "\n",
    "# Filter the FeatureCollection based on the \"id\" property\n",
    "filtered_fc = fc.filter(ee.Filter.eq('id', 3560414))\n",
    "\n",
    "# Get the first feature from the filtered FeatureCollection\n",
    "polygon = filtered_fc.first()\n",
    "\n",
    "# Get the geometry of the polygon\n",
    "geometry = polygon.geometry()\n",
    "\n",
    "# Define date range\n",
    "start_date = '2022-04-01'\n",
    "end_date = '2022-10-30'\n",
    "\n",
    "# Load Sentinel-2 image collection\n",
    "s2 = ee.ImageCollection('COPERNICUS/S2')\n",
    "filtered_s2 = s2.filterBounds(geometry)\\\n",
    "                 .filterDate(start_date, end_date)\\\n",
    "                 .filterMetadata('CLOUDY_PIXEL_PERCENTAGE', 'less_than', 15)\n",
    "\n",
    "# Clip images to the polygon\n",
    "clipped_s2 = filtered_s2.map(lambda image: image.clip(geometry))\n",
    "\n",
    "# Print the number of images in the filtered and clipped collection\n",
    "print(\"Number of images:\", clipped_s2.size().getInfo())\n",
    "\n",
    "# Calculate NDVI for each image in the collection\n",
    "def calculate_ndvi(image):\n",
    "    return image.normalizedDifference(['B8', 'B4']).rename('NDVI')\n",
    "\n",
    "ndvi_collection = clipped_s2.map(calculate_ndvi)\n",
    "\n",
    "# Calculate median NDVI image\n",
    "median_ndvi_image = ndvi_collection.median()\n",
    "\n",
    "# Visualize median NDVI\n",
    "Map = geemap.Map()\n",
    "Map.centerObject(geometry, zoom=17)\n",
    "Map.addLayer(median_ndvi_image, {'min': -1, 'max': 1, 'palette': ['yellow', 'orange', 'red']}, 'Median NDVI')  # Adjust palette here\n",
    "#Map.addLayer(geometry, {}, 'Polygon')\n",
    "Map.addLayerControl()\n",
    "Map\n"
   ]
  },
  {
   "cell_type": "code",
   "execution_count": 47,
   "id": "4649af7c-c450-4f8f-83b2-fbd0a9368974",
   "metadata": {},
   "outputs": [
    {
     "data": {
      "text/html": [
       "\n",
       "            <style>\n",
       "                .geemap-dark {\n",
       "                    --jp-widgets-color: white;\n",
       "                    --jp-widgets-label-color: white;\n",
       "                    --jp-ui-font-color1: white;\n",
       "                    --jp-layout-color2: #454545;\n",
       "                    background-color: #383838;\n",
       "                }\n",
       "\n",
       "                .geemap-dark .jupyter-button {\n",
       "                    --jp-layout-color3: #383838;\n",
       "                }\n",
       "\n",
       "                .geemap-colab {\n",
       "                    background-color: var(--colab-primary-surface-color, white);\n",
       "                }\n",
       "\n",
       "                .geemap-colab .jupyter-button {\n",
       "                    --jp-layout-color3: var(--colab-primary-surface-color, white);\n",
       "                }\n",
       "            </style>\n",
       "            "
      ],
      "text/plain": [
       "<IPython.core.display.HTML object>"
      ]
     },
     "metadata": {},
     "output_type": "display_data"
    }
   ],
   "source": [
    "task = ee.batch.Export.image.toDrive(image=median_ndvi_image,\n",
    "                                     description='median_ndvi_image',\n",
    "                                     scale=0.005,\n",
    "                                     region=geometry,\n",
    "                                     fileNamePrefix='my_export_NDVI1',\n",
    "                                     crs='EPSG:4326',\n",
    "                                     folder='Croatia',\n",
    "                                     fileFormat='GeoTIFF')\n",
    "task.start()"
   ]
  },
  {
   "cell_type": "code",
   "execution_count": 8,
   "id": "9c22a13d-a571-44fe-9ed9-daaac99395bc",
   "metadata": {},
   "outputs": [
    {
     "data": {
      "text/html": [
       "\n",
       "            <style>\n",
       "                .geemap-dark {\n",
       "                    --jp-widgets-color: white;\n",
       "                    --jp-widgets-label-color: white;\n",
       "                    --jp-ui-font-color1: white;\n",
       "                    --jp-layout-color2: #454545;\n",
       "                    background-color: #383838;\n",
       "                }\n",
       "\n",
       "                .geemap-dark .jupyter-button {\n",
       "                    --jp-layout-color3: #383838;\n",
       "                }\n",
       "\n",
       "                .geemap-colab {\n",
       "                    background-color: var(--colab-primary-surface-color, white);\n",
       "                }\n",
       "\n",
       "                .geemap-colab .jupyter-button {\n",
       "                    --jp-layout-color3: var(--colab-primary-surface-color, white);\n",
       "                }\n",
       "            </style>\n",
       "            "
      ],
      "text/plain": [
       "<IPython.core.display.HTML object>"
      ]
     },
     "metadata": {},
     "output_type": "display_data"
    },
    {
     "name": "stdout",
     "output_type": "stream",
     "text": [
      "Number of images: 17\n"
     ]
    },
    {
     "data": {
      "application/vnd.jupyter.widget-view+json": {
       "model_id": "d688450771204a14b733007de6cfac20",
       "version_major": 2,
       "version_minor": 0
      },
      "text/plain": [
       "Map(center=[1.2690236448652632, 35.192631821862136], controls=(WidgetControl(options=['position', 'transparent…"
      ]
     },
     "execution_count": 8,
     "metadata": {},
     "output_type": "execute_result"
    }
   ],
   "source": [
    "import ee\n",
    "import geemap\n",
    "\n",
    "# Initialize Earth Engine\n",
    "ee.Initialize()\n",
    "\n",
    "# Define the asset ID of the FeatureCollection containing your polygon\n",
    "fc_asset_id = 'projects/ee-chesangirine55/assets/kamatiraboundary'\n",
    "\n",
    "# Load the FeatureCollection\n",
    "fc = ee.FeatureCollection(fc_asset_id)\n",
    "\n",
    "# Define the ID of the feature you want to select\n",
    "#feature_id = 12345  # Replace with the desired feature ID\n",
    "\n",
    "# Filter the FeatureCollection based on the \"id\" property\n",
    "#filtered_fc = fc.filter(ee.Filter.eq('id', 3560414))\n",
    "\n",
    "# Get the first feature from the filtered FeatureCollection\n",
    "polygon = fc.first()\n",
    "\n",
    "# Get the geometry of the polygon\n",
    "geometry = polygon.geometry()\n",
    "\n",
    "# Define date range\n",
    "start_date = '2022-04-01'\n",
    "end_date = '2022-10-30'\n",
    "\n",
    "# Load Sentinel-2 image collection\n",
    "s2 = ee.ImageCollection('COPERNICUS/S2')\n",
    "filtered_s2 = s2.filterBounds(geometry)\\\n",
    "                 .filterDate(start_date, end_date)\\\n",
    "                 .filterMetadata('CLOUDY_PIXEL_PERCENTAGE', 'less_than', 15)\n",
    "\n",
    "# Clip images to the polygon\n",
    "clipped_s2 = filtered_s2.map(lambda image: image.clip(geometry))\n",
    "\n",
    "# Print the number of images in the filtered and clipped collection\n",
    "print(\"Number of images:\", clipped_s2.size().getInfo())\n",
    "\n",
    "# Calculate NDVI for each image in the collection\n",
    "def calculate_ndvi(image):\n",
    "    return image.normalizedDifference(['B8', 'B4']).rename('NDVI')\n",
    "\n",
    "ndvi_collection = clipped_s2.map(calculate_ndvi)\n",
    "\n",
    "# Calculate median NDVI image\n",
    "median_ndvi_image = ndvi_collection.median()\n",
    "\n",
    "# Visualize median NDVI\n",
    "Map = geemap.Map()\n",
    "Map.centerObject(geometry, zoom=13)\n",
    "Map.addLayer(median_ndvi_image, {'min': -1, 'max': 1, 'palette': ['yellow', 'orange', 'red']}, 'Median NDVI')  # Adjust palette here\n",
    "#Map.addLayer(geometry, {}, 'Polygon')\n",
    "Map.addLayerControl()\n",
    "Map"
   ]
  },
  {
   "cell_type": "code",
   "execution_count": 54,
   "id": "dfc683dd-1b49-4454-8c18-b17d0e9c3be1",
   "metadata": {},
   "outputs": [
    {
     "data": {
      "text/html": [
       "\n",
       "            <style>\n",
       "                .geemap-dark {\n",
       "                    --jp-widgets-color: white;\n",
       "                    --jp-widgets-label-color: white;\n",
       "                    --jp-ui-font-color1: white;\n",
       "                    --jp-layout-color2: #454545;\n",
       "                    background-color: #383838;\n",
       "                }\n",
       "\n",
       "                .geemap-dark .jupyter-button {\n",
       "                    --jp-layout-color3: #383838;\n",
       "                }\n",
       "\n",
       "                .geemap-colab {\n",
       "                    background-color: var(--colab-primary-surface-color, white);\n",
       "                }\n",
       "\n",
       "                .geemap-colab .jupyter-button {\n",
       "                    --jp-layout-color3: var(--colab-primary-surface-color, white);\n",
       "                }\n",
       "            </style>\n",
       "            "
      ],
      "text/plain": [
       "<IPython.core.display.HTML object>"
      ]
     },
     "metadata": {},
     "output_type": "display_data"
    }
   ],
   "source": [
    "task = ee.batch.Export.image.toDrive(image=median_ndvi_image,\n",
    "                                     description='median_ndvi_image',\n",
    "                                     scale=100,\n",
    "                                     region=geometry,\n",
    "                                     fileNamePrefix='Zagreb_export_NDVI',\n",
    "                                     crs='EPSG:4326',\n",
    "                                     fileFormat='GeoTIFF')\n",
    "task.start()"
   ]
  },
  {
   "cell_type": "code",
   "execution_count": 10,
   "id": "dc4061f7-b4a0-41ef-899f-f95461211707",
   "metadata": {},
   "outputs": [
    {
     "data": {
      "text/html": [
       "\n",
       "            <style>\n",
       "                .geemap-dark {\n",
       "                    --jp-widgets-color: white;\n",
       "                    --jp-widgets-label-color: white;\n",
       "                    --jp-ui-font-color1: white;\n",
       "                    --jp-layout-color2: #454545;\n",
       "                    background-color: #383838;\n",
       "                }\n",
       "\n",
       "                .geemap-dark .jupyter-button {\n",
       "                    --jp-layout-color3: #383838;\n",
       "                }\n",
       "\n",
       "                .geemap-colab {\n",
       "                    background-color: var(--colab-primary-surface-color, white);\n",
       "                }\n",
       "\n",
       "                .geemap-colab .jupyter-button {\n",
       "                    --jp-layout-color3: var(--colab-primary-surface-color, white);\n",
       "                }\n",
       "            </style>\n",
       "            "
      ],
      "text/plain": [
       "<IPython.core.display.HTML object>"
      ]
     },
     "metadata": {},
     "output_type": "display_data"
    },
    {
     "data": {
      "application/vnd.jupyter.widget-view+json": {
       "model_id": "b81838b790d548f0a6e42512f07151c0",
       "version_major": 2,
       "version_minor": 0
      },
      "text/plain": [
       "Map(center=[0.07598663852423793, 35.722413130991086], controls=(WidgetControl(options=['position', 'transparen…"
      ]
     },
     "execution_count": 10,
     "metadata": {},
     "output_type": "execute_result"
    }
   ],
   "source": [
    "import ee\n",
    "import geemap\n",
    "\n",
    "# Initialize Earth Engine\n",
    "ee.Initialize()\n",
    "\n",
    "# Define the asset ID of the FeatureCollection containing your polygons\n",
    "fc_asset_id = 'projects/ee-chesangirine55/assets/kamatiraboundary'\n",
    "\n",
    "# Load the FeatureCollection\n",
    "fc = ee.FeatureCollection(fc_asset_id)\n",
    "\n",
    "# Define date range\n",
    "start_date = '2022-04-01'\n",
    "end_date = '2022-10-30'\n",
    "\n",
    "# Load Sentinel-2 image collection\n",
    "s2 = ee.ImageCollection('COPERNICUS/S2')\\\n",
    "        .filterDate(start_date, end_date)\\\n",
    "        .filterMetadata('CLOUDY_PIXEL_PERCENTAGE', 'less_than', 15)\n",
    "\n",
    "# Calculate NDVI for each image in the collection\n",
    "def calculate_ndvi(image):\n",
    "    return image.normalizedDifference(['B8', 'B4']).rename('NDVI')\n",
    "\n",
    "# Initialize the map\n",
    "Map = geemap.Map()\n",
    "Map.centerObject(fc, zoom=10)\n",
    "\n",
    "# Iterate over each feature in the FeatureCollection\n",
    "def process_feature(feature):\n",
    "    geometry = feature.geometry()\n",
    "    \n",
    "    # Clip images to the polygon\n",
    "    clipped_s2 = s2.filterBounds(geometry).map(lambda image: image.clip(geometry))\n",
    "    \n",
    "    # Calculate NDVI for each image\n",
    "    ndvi_collection = clipped_s2.map(calculate_ndvi)\n",
    "    \n",
    "    # Calculate median NDVI image\n",
    "    median_ndvi_image = ndvi_collection.median()\n",
    "    \n",
    "    # Visualize median NDVI for this feature\n",
    "    Map.addLayer(median_ndvi_image, {'min': -1, 'max': 1, 'palette': ['yellow', 'orange', 'red']}, 'Median NDVI')\n",
    "    # Uncomment to add the geometry layer for visualization\n",
    "    # Map.addLayer(geometry, {}, 'Polygon')\n",
    "\n",
    "# Get the list of features from the FeatureCollection as a client-side list\n",
    "features_list = fc.toList(fc.size())\n",
    "\n",
    "# Iterate over the features and process each one\n",
    "for i in range(features_list.size().getInfo()):\n",
    "    feature = ee.Feature(features_list.get(i))\n",
    "    process_feature(feature)\n",
    "\n",
    "# Add layer control and display the map\n",
    "Map.addLayerControl()\n",
    "Map\n"
   ]
  },
  {
   "cell_type": "code",
   "execution_count": 9,
   "id": "2b7d8eea-cec6-4fc9-b22d-669dd1e65206",
   "metadata": {},
   "outputs": [
    {
     "data": {
      "text/html": [
       "\n",
       "            <style>\n",
       "                .geemap-dark {\n",
       "                    --jp-widgets-color: white;\n",
       "                    --jp-widgets-label-color: white;\n",
       "                    --jp-ui-font-color1: white;\n",
       "                    --jp-layout-color2: #454545;\n",
       "                    background-color: #383838;\n",
       "                }\n",
       "\n",
       "                .geemap-dark .jupyter-button {\n",
       "                    --jp-layout-color3: #383838;\n",
       "                }\n",
       "\n",
       "                .geemap-colab {\n",
       "                    background-color: var(--colab-primary-surface-color, white);\n",
       "                }\n",
       "\n",
       "                .geemap-colab .jupyter-button {\n",
       "                    --jp-layout-color3: var(--colab-primary-surface-color, white);\n",
       "                }\n",
       "            </style>\n",
       "            "
      ],
      "text/plain": [
       "<IPython.core.display.HTML object>"
      ]
     },
     "metadata": {},
     "output_type": "display_data"
    },
    {
     "data": {
      "application/vnd.jupyter.widget-view+json": {
       "model_id": "4d2f88e54f7f48eabea71a46c4c6c629",
       "version_major": 2,
       "version_minor": 0
      },
      "text/plain": [
       "Map(center=[1.269023644853747, 35.19263182187535], controls=(WidgetControl(options=['position', 'transparent_b…"
      ]
     },
     "execution_count": 9,
     "metadata": {},
     "output_type": "execute_result"
    }
   ],
   "source": [
    "import ee\n",
    "import geemap\n",
    "\n",
    "# Initialize Earth Engine\n",
    "ee.Initialize()\n",
    "\n",
    "# Define the asset ID of the FeatureCollection containing your polygons\n",
    "fc_asset_id = 'projects/ee-chesangirine55/assets/kamatiraboundary'\n",
    "\n",
    "# Load the FeatureCollection\n",
    "fc = ee.FeatureCollection(fc_asset_id)\n",
    "\n",
    "# Define date range\n",
    "start_date = '2022-04-01'\n",
    "end_date = '2022-10-30'\n",
    "\n",
    "# Load Sentinel-2 image collection\n",
    "s2 = ee.ImageCollection('COPERNICUS/S2')\\\n",
    "        .filterDate(start_date, end_date)\\\n",
    "        .filterMetadata('CLOUDY_PIXEL_PERCENTAGE', 'less_than', 15)\n",
    "\n",
    "# Calculate NDVI for each image in the collection\n",
    "def calculate_ndvi(image):\n",
    "    return image.normalizedDifference(['B8', 'B4']).rename('NDVI')\n",
    "\n",
    "# Initialize the map\n",
    "Map = geemap.Map()\n",
    "Map.centerObject(fc, zoom=10)\n",
    "\n",
    "# Get the list of features from the FeatureCollection as a client-side list\n",
    "features_list = fc.toList(fc.size())\n",
    "\n",
    "# Iterate over the features and process each one\n",
    "for i in range(features_list.size().getInfo()):\n",
    "    feature = ee.Feature(features_list.get(i))\n",
    "    geometry = feature.geometry()\n",
    "\n",
    "    # Clip images to the polygon\n",
    "    clipped_s2 = s2.filterBounds(geometry).map(lambda image: image.clip(geometry))\n",
    "\n",
    "    # Calculate NDVI for each image\n",
    "    ndvi_collection = clipped_s2.map(calculate_ndvi)\n",
    "\n",
    "    # Calculate median NDVI image\n",
    "    median_ndvi_image = ndvi_collection.median()\n",
    "\n",
    "    # Add the median NDVI layer to the map for this feature\n",
    "    Map.addLayer(median_ndvi_image, {'min': -1, 'max': 1, 'palette': ['yellow', 'orange', 'red']}, f'Median NDVI for feature {i+1}')\n",
    "    # Uncomment to add the geometry layer for visualization\n",
    "    # Map.addLayer(geometry, {}, f'Polygon {i+1}')\n",
    "\n",
    "# Add layer control and display the map\n",
    "Map.addLayerControl()\n",
    "Map\n"
   ]
  },
  {
   "cell_type": "code",
   "execution_count": 10,
   "id": "e89cdb02-02fa-468d-99df-2e89c45a93ef",
   "metadata": {},
   "outputs": [
    {
     "data": {
      "text/html": [
       "\n",
       "            <style>\n",
       "                .geemap-dark {\n",
       "                    --jp-widgets-color: white;\n",
       "                    --jp-widgets-label-color: white;\n",
       "                    --jp-ui-font-color1: white;\n",
       "                    --jp-layout-color2: #454545;\n",
       "                    background-color: #383838;\n",
       "                }\n",
       "\n",
       "                .geemap-dark .jupyter-button {\n",
       "                    --jp-layout-color3: #383838;\n",
       "                }\n",
       "\n",
       "                .geemap-colab {\n",
       "                    background-color: var(--colab-primary-surface-color, white);\n",
       "                }\n",
       "\n",
       "                .geemap-colab .jupyter-button {\n",
       "                    --jp-layout-color3: var(--colab-primary-surface-color, white);\n",
       "                }\n",
       "            </style>\n",
       "            "
      ],
      "text/plain": [
       "<IPython.core.display.HTML object>"
      ]
     },
     "metadata": {},
     "output_type": "display_data"
    },
    {
     "data": {
      "application/vnd.jupyter.widget-view+json": {
       "model_id": "495bce5a995143f891bc47174ce9e1bf",
       "version_major": 2,
       "version_minor": 0
      },
      "text/plain": [
       "Map(center=[1.269023644853747, 35.19263182187535], controls=(WidgetControl(options=['position', 'transparent_b…"
      ]
     },
     "execution_count": 10,
     "metadata": {},
     "output_type": "execute_result"
    }
   ],
   "source": [
    "import ee\n",
    "import geemap\n",
    "\n",
    "# Initialize Earth Engine\n",
    "ee.Initialize()\n",
    "\n",
    "# Define the asset ID of the FeatureCollection containing your polygons\n",
    "fc_asset_id = 'projects/ee-chesangirine55/assets/kamatiraboundary'\n",
    "\n",
    "# Load the FeatureCollection\n",
    "fc = ee.FeatureCollection(fc_asset_id)\n",
    "\n",
    "# Define date range\n",
    "start_date = '2022-04-01'\n",
    "end_date = '2022-10-30'\n",
    "\n",
    "# Load Sentinel-2 image collection\n",
    "s2 = ee.ImageCollection('COPERNICUS/S2')\\\n",
    "        .filterDate(start_date, end_date)\\\n",
    "        .filterMetadata('CLOUDY_PIXEL_PERCENTAGE', 'less_than', 15)\n",
    "\n",
    "# Calculate NDVI for each image in the collection\n",
    "def calculate_ndvi(image):\n",
    "    return image.normalizedDifference(['B8', 'B4']).rename('NDVI')\n",
    "\n",
    "# Initialize the map\n",
    "Map = geemap.Map()\n",
    "Map.centerObject(fc, zoom=10)\n",
    "\n",
    "# Get the list of features from the FeatureCollection as a client-side list\n",
    "features_list = fc.toList(fc.size())\n",
    "\n",
    "# Iterate over the features and process each one\n",
    "for i in range(features_list.size().getInfo()):\n",
    "    feature = ee.Feature(features_list.get(i))\n",
    "    geometry = feature.geometry()\n",
    "\n",
    "    # Clip images to the polygon\n",
    "    clipped_s2 = s2.filterBounds(geometry).map(lambda image: image.clip(geometry))\n",
    "\n",
    "    # Calculate NDVI for each image\n",
    "    ndvi_collection = clipped_s2.map(calculate_ndvi)\n",
    "\n",
    "    # Calculate median NDVI image\n",
    "    median_ndvi_image = ndvi_collection.median()\n",
    "\n",
    "    # Add the median NDVI layer to the map for this feature\n",
    "    Map.addLayer(median_ndvi_image, {'min': -1, 'max': 1, 'palette': ['yellow', 'orange', 'red']}, f'Median NDVI for feature {i+1}')\n",
    "    # Uncomment to add the geometry layer for visualization\n",
    "    # Map.addLayer(geometry, {}, f'Polygon {i+1}')\n",
    "\n",
    "    # Export median NDVI image to Google Drive\n",
    "    task = ee.batch.Export.image.toDrive(image=median_ndvi_image,\n",
    "                                         description=f'median_ndvi_image_{i+1}',\n",
    "                                         scale=1,\n",
    "                                         region=geometry,\n",
    "                                         fileNamePrefix=f'Farm_export_NDVI_{i+1}',\n",
    "                                         crs='EPSG:4326',\n",
    "                                         folder='NDVI',\n",
    "                                         fileFormat='GeoTIFF')\n",
    "    task.start()\n",
    "\n",
    "# Add layer control and display the map\n",
    "Map.addLayerControl()\n",
    "Map\n"
   ]
  },
  {
   "cell_type": "code",
   "execution_count": 17,
   "id": "e588bca6-5107-4baf-84c7-3c399051d5cf",
   "metadata": {},
   "outputs": [
    {
     "data": {
      "text/html": [
       "\n",
       "            <style>\n",
       "                .geemap-dark {\n",
       "                    --jp-widgets-color: white;\n",
       "                    --jp-widgets-label-color: white;\n",
       "                    --jp-ui-font-color1: white;\n",
       "                    --jp-layout-color2: #454545;\n",
       "                    background-color: #383838;\n",
       "                }\n",
       "\n",
       "                .geemap-dark .jupyter-button {\n",
       "                    --jp-layout-color3: #383838;\n",
       "                }\n",
       "\n",
       "                .geemap-colab {\n",
       "                    background-color: var(--colab-primary-surface-color, white);\n",
       "                }\n",
       "\n",
       "                .geemap-colab .jupyter-button {\n",
       "                    --jp-layout-color3: var(--colab-primary-surface-color, white);\n",
       "                }\n",
       "            </style>\n",
       "            "
      ],
      "text/plain": [
       "<IPython.core.display.HTML object>"
      ]
     },
     "metadata": {},
     "output_type": "display_data"
    },
    {
     "data": {
      "application/vnd.jupyter.widget-view+json": {
       "model_id": "2eb4a62810e144be96eb227a131acd25",
       "version_major": 2,
       "version_minor": 0
      },
      "text/plain": [
       "Map(center=[0.07598663852423793, 35.722413130991086], controls=(WidgetControl(options=['position', 'transparen…"
      ]
     },
     "execution_count": 17,
     "metadata": {},
     "output_type": "execute_result"
    }
   ],
   "source": [
    "import ee\n",
    "import geemap\n",
    "\n",
    "# Initialize Earth Engine\n",
    "ee.Initialize()\n",
    "\n",
    "# Define the asset ID of the FeatureCollection containing your polygons\n",
    "fc_asset_id = 'projects/serene-bastion-406504/assets/Merged_Plots'\n",
    "\n",
    "# Load the FeatureCollection\n",
    "fc = ee.FeatureCollection(fc_asset_id)\n",
    "\n",
    "# Define date range for March and April 2023\n",
    "start_date_march = '2023-03-01'\n",
    "end_date_march = '2023-03-31'\n",
    "\n",
    "start_date_april = '2023-04-01'\n",
    "end_date_april = '2023-04-30'\n",
    "\n",
    "# Load Sentinel-2 image collection for March and April 2023\n",
    "s2_march = ee.ImageCollection('COPERNICUS/S2_SR')\\\n",
    "            .filterDate(start_date_march, end_date_march)\\\n",
    "            .filterMetadata('CLOUDY_PIXEL_PERCENTAGE', 'less_than', 15)\n",
    "\n",
    "s2_april = ee.ImageCollection('COPERNICUS/S2_SR')\\\n",
    "            .filterDate(start_date_april, end_date_april)\\\n",
    "            .filterMetadata('CLOUDY_PIXEL_PERCENTAGE', 'less_than', 15)\n",
    "\n",
    "# Calculate NDVI for each image in the collection\n",
    "def calculate_ndvi(image):\n",
    "    return image.normalizedDifference(['B8', 'B4']).rename('NDVI')\n",
    "\n",
    "# Initialize the map\n",
    "Map = geemap.Map()\n",
    "Map.centerObject(fc, zoom=16)\n",
    "\n",
    "# Get the list of features from the FeatureCollection as a client-side list\n",
    "features_list = fc.toList(fc.size())\n",
    "\n",
    "# Function to add NDVI layers to the map\n",
    "def add_ndvi_layers(image_collection, month_name):\n",
    "    # Iterate over the features and process each one\n",
    "    for i in range(features_list.size().getInfo()):\n",
    "        feature = ee.Feature(features_list.get(i))\n",
    "        geometry = feature.geometry()\n",
    "\n",
    "        # Clip images to the polygon\n",
    "        clipped_s2 = image_collection.filterBounds(geometry).map(lambda image: image.clip(geometry))\n",
    "\n",
    "        # Calculate NDVI for each image\n",
    "        ndvi_collection = clipped_s2.map(calculate_ndvi)\n",
    "\n",
    "        # Calculate median NDVI image\n",
    "        median_ndvi_image = ndvi_collection.median()\n",
    "\n",
    "        # Add the median NDVI layer to the map for this feature\n",
    "        Map.addLayer(median_ndvi_image, {'min': -1, 'max': 1, 'palette': ['yellow', 'orange', 'red']}, f'{month_name} NDVI for feature {i+1}')\n",
    "        # Uncomment to add the geometry layer for visualization\n",
    "        # Map.addLayer(geometry, {}, f'Polygon {i+1}')\n",
    "\n",
    "# Add NDVI layers for March and April\n",
    "add_ndvi_layers(s2_march, 'March')\n",
    "add_ndvi_layers(s2_april, 'April')\n",
    "\n",
    "# Add layer control and display the map\n",
    "Map.addLayerControl()\n",
    "Map\n"
   ]
  },
  {
   "cell_type": "code",
   "execution_count": 11,
   "id": "8c386b0f-eb55-4ebd-abf5-793cdb37d9c5",
   "metadata": {},
   "outputs": [
    {
     "data": {
      "text/html": [
       "\n",
       "            <style>\n",
       "                .geemap-dark {\n",
       "                    --jp-widgets-color: white;\n",
       "                    --jp-widgets-label-color: white;\n",
       "                    --jp-ui-font-color1: white;\n",
       "                    --jp-layout-color2: #454545;\n",
       "                    background-color: #383838;\n",
       "                }\n",
       "\n",
       "                .geemap-dark .jupyter-button {\n",
       "                    --jp-layout-color3: #383838;\n",
       "                }\n",
       "\n",
       "                .geemap-colab {\n",
       "                    background-color: var(--colab-primary-surface-color, white);\n",
       "                }\n",
       "\n",
       "                .geemap-colab .jupyter-button {\n",
       "                    --jp-layout-color3: var(--colab-primary-surface-color, white);\n",
       "                }\n",
       "            </style>\n",
       "            "
      ],
      "text/plain": [
       "<IPython.core.display.HTML object>"
      ]
     },
     "metadata": {},
     "output_type": "display_data"
    },
    {
     "ename": "EEException",
     "evalue": "Image.normalizedDifference: Parameter 'input' is required and may not be null.",
     "output_type": "error",
     "traceback": [
      "\u001b[1;31m---------------------------------------------------------------------------\u001b[0m",
      "\u001b[1;31mHttpError\u001b[0m                                 Traceback (most recent call last)",
      "File \u001b[1;32m~\\miniconda3i\\envs\\ee\\Lib\\site-packages\\ee\\data.py:408\u001b[0m, in \u001b[0;36m_execute_cloud_call\u001b[1;34m(call, num_retries)\u001b[0m\n\u001b[0;32m    407\u001b[0m \u001b[38;5;28;01mtry\u001b[39;00m:\n\u001b[1;32m--> 408\u001b[0m   \u001b[38;5;28;01mreturn\u001b[39;00m \u001b[43mcall\u001b[49m\u001b[38;5;241;43m.\u001b[39;49m\u001b[43mexecute\u001b[49m\u001b[43m(\u001b[49m\u001b[43mnum_retries\u001b[49m\u001b[38;5;241;43m=\u001b[39;49m\u001b[43mnum_retries\u001b[49m\u001b[43m)\u001b[49m\n\u001b[0;32m    409\u001b[0m \u001b[38;5;28;01mexcept\u001b[39;00m googleapiclient\u001b[38;5;241m.\u001b[39merrors\u001b[38;5;241m.\u001b[39mHttpError \u001b[38;5;28;01mas\u001b[39;00m e:\n",
      "File \u001b[1;32m~\\miniconda3i\\envs\\ee\\Lib\\site-packages\\googleapiclient\\_helpers.py:130\u001b[0m, in \u001b[0;36mpositional.<locals>.positional_decorator.<locals>.positional_wrapper\u001b[1;34m(*args, **kwargs)\u001b[0m\n\u001b[0;32m    129\u001b[0m         logger\u001b[38;5;241m.\u001b[39mwarning(message)\n\u001b[1;32m--> 130\u001b[0m \u001b[38;5;28;01mreturn\u001b[39;00m \u001b[43mwrapped\u001b[49m\u001b[43m(\u001b[49m\u001b[38;5;241;43m*\u001b[39;49m\u001b[43margs\u001b[49m\u001b[43m,\u001b[49m\u001b[43m \u001b[49m\u001b[38;5;241;43m*\u001b[39;49m\u001b[38;5;241;43m*\u001b[39;49m\u001b[43mkwargs\u001b[49m\u001b[43m)\u001b[49m\n",
      "File \u001b[1;32m~\\miniconda3i\\envs\\ee\\Lib\\site-packages\\googleapiclient\\http.py:938\u001b[0m, in \u001b[0;36mHttpRequest.execute\u001b[1;34m(self, http, num_retries)\u001b[0m\n\u001b[0;32m    937\u001b[0m \u001b[38;5;28;01mif\u001b[39;00m resp\u001b[38;5;241m.\u001b[39mstatus \u001b[38;5;241m>\u001b[39m\u001b[38;5;241m=\u001b[39m \u001b[38;5;241m300\u001b[39m:\n\u001b[1;32m--> 938\u001b[0m     \u001b[38;5;28;01mraise\u001b[39;00m HttpError(resp, content, uri\u001b[38;5;241m=\u001b[39m\u001b[38;5;28mself\u001b[39m\u001b[38;5;241m.\u001b[39muri)\n\u001b[0;32m    939\u001b[0m \u001b[38;5;28;01mreturn\u001b[39;00m \u001b[38;5;28mself\u001b[39m\u001b[38;5;241m.\u001b[39mpostproc(resp, content)\n",
      "\u001b[1;31mHttpError\u001b[0m: <HttpError 400 when requesting https://earthengine.googleapis.com/v1/projects/692246536408/value:compute?prettyPrint=false&alt=json returned \"Image.normalizedDifference: Parameter 'input' is required and may not be null.\". Details: \"Image.normalizedDifference: Parameter 'input' is required and may not be null.\">",
      "\nDuring handling of the above exception, another exception occurred:\n",
      "\u001b[1;31mEEException\u001b[0m                               Traceback (most recent call last)",
      "Cell \u001b[1;32mIn[11], line 93\u001b[0m\n\u001b[0;32m     91\u001b[0m \u001b[38;5;66;03m# Sample and export NDVI values for March and April\u001b[39;00m\n\u001b[0;32m     92\u001b[0m \u001b[38;5;28;01mfor\u001b[39;00m feature \u001b[38;5;129;01min\u001b[39;00m fc\u001b[38;5;241m.\u001b[39mtoList(fc\u001b[38;5;241m.\u001b[39msize())\u001b[38;5;241m.\u001b[39mgetInfo():\n\u001b[1;32m---> 93\u001b[0m     \u001b[43msample_and_export_ndvi\u001b[49m\u001b[43m(\u001b[49m\u001b[43mee\u001b[49m\u001b[38;5;241;43m.\u001b[39;49m\u001b[43mFeature\u001b[49m\u001b[43m(\u001b[49m\u001b[43mfeature\u001b[49m\u001b[43m)\u001b[49m\u001b[43m,\u001b[49m\u001b[43m \u001b[49m\u001b[43ms2_march\u001b[49m\u001b[43m,\u001b[49m\u001b[43m \u001b[49m\u001b[38;5;124;43m'\u001b[39;49m\u001b[38;5;124;43mMarch\u001b[39;49m\u001b[38;5;124;43m'\u001b[39;49m\u001b[43m)\u001b[49m\n\u001b[0;32m     94\u001b[0m     sample_and_export_ndvi(ee\u001b[38;5;241m.\u001b[39mFeature(feature), s2_april, \u001b[38;5;124m'\u001b[39m\u001b[38;5;124mApril\u001b[39m\u001b[38;5;124m'\u001b[39m)\n",
      "Cell \u001b[1;32mIn[11], line 69\u001b[0m, in \u001b[0;36msample_and_export_ndvi\u001b[1;34m(feature, image_collection, month_name)\u001b[0m\n\u001b[0;32m     66\u001b[0m data \u001b[38;5;241m=\u001b[39m []\n\u001b[0;32m     68\u001b[0m \u001b[38;5;66;03m# Iterate over sampled points\u001b[39;00m\n\u001b[1;32m---> 69\u001b[0m \u001b[38;5;28;01mfor\u001b[39;00m point \u001b[38;5;129;01min\u001b[39;00m \u001b[43mndvi_points\u001b[49m\u001b[38;5;241;43m.\u001b[39;49m\u001b[43mgetInfo\u001b[49m\u001b[43m(\u001b[49m\u001b[43m)\u001b[49m[\u001b[38;5;124m'\u001b[39m\u001b[38;5;124mfeatures\u001b[39m\u001b[38;5;124m'\u001b[39m]:\n\u001b[0;32m     70\u001b[0m     coords \u001b[38;5;241m=\u001b[39m point[\u001b[38;5;124m'\u001b[39m\u001b[38;5;124mgeometry\u001b[39m\u001b[38;5;124m'\u001b[39m][\u001b[38;5;124m'\u001b[39m\u001b[38;5;124mcoordinates\u001b[39m\u001b[38;5;124m'\u001b[39m]\n\u001b[0;32m     71\u001b[0m     ndvi_value \u001b[38;5;241m=\u001b[39m point[\u001b[38;5;124m'\u001b[39m\u001b[38;5;124mproperties\u001b[39m\u001b[38;5;124m'\u001b[39m][\u001b[38;5;124m'\u001b[39m\u001b[38;5;124mNDVI\u001b[39m\u001b[38;5;124m'\u001b[39m]\n",
      "File \u001b[1;32m~\\miniconda3i\\envs\\ee\\Lib\\site-packages\\ee\\collection.py:560\u001b[0m, in \u001b[0;36mCollection.getInfo\u001b[1;34m(self)\u001b[0m\n\u001b[0;32m    547\u001b[0m \u001b[38;5;28;01mdef\u001b[39;00m\u001b[38;5;250m \u001b[39m\u001b[38;5;21mgetInfo\u001b[39m(\u001b[38;5;28mself\u001b[39m) \u001b[38;5;241m-\u001b[39m\u001b[38;5;241m>\u001b[39m Optional[Any]:\n\u001b[0;32m    548\u001b[0m \u001b[38;5;250m  \u001b[39m\u001b[38;5;124;03m\"\"\"Returns all the known information about this collection.\u001b[39;00m\n\u001b[0;32m    549\u001b[0m \n\u001b[0;32m    550\u001b[0m \u001b[38;5;124;03m  This function makes a REST call to to retrieve all the known information\u001b[39;00m\n\u001b[1;32m   (...)\u001b[0m\n\u001b[0;32m    558\u001b[0m \u001b[38;5;124;03m         properties.\u001b[39;00m\n\u001b[0;32m    559\u001b[0m \u001b[38;5;124;03m  \"\"\"\u001b[39;00m\n\u001b[1;32m--> 560\u001b[0m   \u001b[38;5;28;01mreturn\u001b[39;00m \u001b[38;5;28;43msuper\u001b[39;49m\u001b[43m(\u001b[49m\u001b[43m)\u001b[49m\u001b[38;5;241;43m.\u001b[39;49m\u001b[43mgetInfo\u001b[49m\u001b[43m(\u001b[49m\u001b[43m)\u001b[49m\n",
      "File \u001b[1;32m~\\miniconda3i\\envs\\ee\\Lib\\site-packages\\ee\\computedobject.py:107\u001b[0m, in \u001b[0;36mComputedObject.getInfo\u001b[1;34m(self)\u001b[0m\n\u001b[0;32m    101\u001b[0m \u001b[38;5;28;01mdef\u001b[39;00m\u001b[38;5;250m \u001b[39m\u001b[38;5;21mgetInfo\u001b[39m(\u001b[38;5;28mself\u001b[39m) \u001b[38;5;241m-\u001b[39m\u001b[38;5;241m>\u001b[39m Optional[Any]:\n\u001b[0;32m    102\u001b[0m \u001b[38;5;250m  \u001b[39m\u001b[38;5;124;03m\"\"\"Fetch and return information about this object.\u001b[39;00m\n\u001b[0;32m    103\u001b[0m \n\u001b[0;32m    104\u001b[0m \u001b[38;5;124;03m  Returns:\u001b[39;00m\n\u001b[0;32m    105\u001b[0m \u001b[38;5;124;03m    The object can evaluate to anything.\u001b[39;00m\n\u001b[0;32m    106\u001b[0m \u001b[38;5;124;03m  \"\"\"\u001b[39;00m\n\u001b[1;32m--> 107\u001b[0m   \u001b[38;5;28;01mreturn\u001b[39;00m \u001b[43mdata\u001b[49m\u001b[38;5;241;43m.\u001b[39;49m\u001b[43mcomputeValue\u001b[49m\u001b[43m(\u001b[49m\u001b[38;5;28;43mself\u001b[39;49m\u001b[43m)\u001b[49m\n",
      "File \u001b[1;32m~\\miniconda3i\\envs\\ee\\Lib\\site-packages\\ee\\data.py:1128\u001b[0m, in \u001b[0;36mcomputeValue\u001b[1;34m(obj)\u001b[0m\n\u001b[0;32m   1125\u001b[0m body \u001b[38;5;241m=\u001b[39m {\u001b[38;5;124m'\u001b[39m\u001b[38;5;124mexpression\u001b[39m\u001b[38;5;124m'\u001b[39m: serializer\u001b[38;5;241m.\u001b[39mencode(obj, for_cloud_api\u001b[38;5;241m=\u001b[39m\u001b[38;5;28;01mTrue\u001b[39;00m)}\n\u001b[0;32m   1126\u001b[0m _maybe_populate_workload_tag(body)\n\u001b[1;32m-> 1128\u001b[0m \u001b[38;5;28;01mreturn\u001b[39;00m \u001b[43m_execute_cloud_call\u001b[49m\u001b[43m(\u001b[49m\n\u001b[0;32m   1129\u001b[0m \u001b[43m    \u001b[49m\u001b[43m_get_cloud_projects\u001b[49m\u001b[43m(\u001b[49m\u001b[43m)\u001b[49m\n\u001b[0;32m   1130\u001b[0m \u001b[43m    \u001b[49m\u001b[38;5;241;43m.\u001b[39;49m\u001b[43mvalue\u001b[49m\u001b[43m(\u001b[49m\u001b[43m)\u001b[49m\n\u001b[0;32m   1131\u001b[0m \u001b[43m    \u001b[49m\u001b[38;5;241;43m.\u001b[39;49m\u001b[43mcompute\u001b[49m\u001b[43m(\u001b[49m\u001b[43mbody\u001b[49m\u001b[38;5;241;43m=\u001b[39;49m\u001b[43mbody\u001b[49m\u001b[43m,\u001b[49m\u001b[43m \u001b[49m\u001b[43mproject\u001b[49m\u001b[38;5;241;43m=\u001b[39;49m\u001b[43m_get_projects_path\u001b[49m\u001b[43m(\u001b[49m\u001b[43m)\u001b[49m\u001b[43m,\u001b[49m\u001b[43m \u001b[49m\u001b[43mprettyPrint\u001b[49m\u001b[38;5;241;43m=\u001b[39;49m\u001b[38;5;28;43;01mFalse\u001b[39;49;00m\u001b[43m)\u001b[49m\n\u001b[0;32m   1132\u001b[0m \u001b[43m\u001b[49m\u001b[43m)\u001b[49m[\u001b[38;5;124m'\u001b[39m\u001b[38;5;124mresult\u001b[39m\u001b[38;5;124m'\u001b[39m]\n",
      "File \u001b[1;32m~\\miniconda3i\\envs\\ee\\Lib\\site-packages\\ee\\data.py:410\u001b[0m, in \u001b[0;36m_execute_cloud_call\u001b[1;34m(call, num_retries)\u001b[0m\n\u001b[0;32m    408\u001b[0m   \u001b[38;5;28;01mreturn\u001b[39;00m call\u001b[38;5;241m.\u001b[39mexecute(num_retries\u001b[38;5;241m=\u001b[39mnum_retries)\n\u001b[0;32m    409\u001b[0m \u001b[38;5;28;01mexcept\u001b[39;00m googleapiclient\u001b[38;5;241m.\u001b[39merrors\u001b[38;5;241m.\u001b[39mHttpError \u001b[38;5;28;01mas\u001b[39;00m e:\n\u001b[1;32m--> 410\u001b[0m   \u001b[38;5;28;01mraise\u001b[39;00m _translate_cloud_exception(e)\n",
      "\u001b[1;31mEEException\u001b[0m: Image.normalizedDifference: Parameter 'input' is required and may not be null."
     ]
    }
   ],
   "source": [
    "import ee\n",
    "import geemap\n",
    "import pandas as pd\n",
    "\n",
    "# Initialize Earth Engine\n",
    "ee.Initialize()\n",
    "\n",
    "# Define the asset ID of the FeatureCollection containing your polygons\n",
    "fc_asset_id = 'projects/ee-chesangirine55/assets/kamatiraboundary'\n",
    "\n",
    "# Load the FeatureCollection\n",
    "fc = ee.FeatureCollection(fc_asset_id)\n",
    "\n",
    "# Define date range for March and April 2023\n",
    "start_date_march = '2023-03-01'\n",
    "end_date_march = '2023-03-31'\n",
    "\n",
    "start_date_april = '2023-04-01'\n",
    "end_date_april = '2023-04-30'\n",
    "\n",
    "# Load Sentinel-2 image collection for March and April 2023\n",
    "s2_march = ee.ImageCollection('COPERNICUS/S2_SR')\\\n",
    "            .filterDate(start_date_march, end_date_march)\\\n",
    "            .filterMetadata('CLOUDY_PIXEL_PERCENTAGE', 'less_than', 15)\n",
    "\n",
    "s2_april = ee.ImageCollection('COPERNICUS/S2_SR')\\\n",
    "            .filterDate(start_date_april, end_date_april)\\\n",
    "            .filterMetadata('CLOUDY_PIXEL_PERCENTAGE', 'less_than', 15)\n",
    "\n",
    "# Function to sample random points and append NDVI values\n",
    "def sample_and_export_ndvi(feature, image_collection, month_name):\n",
    "    plot_id = feature.get('Plot_No').getInfo()  # Assuming 'Plot_No' is the property containing plot IDs\n",
    "    geometry = feature.geometry()\n",
    "\n",
    "    # Sample random points within the plot geometry\n",
    "    random_points = ee.FeatureCollection.randomPoints(geometry, 200)\n",
    "\n",
    "    # Clip images to the plot geometry\n",
    "    clipped_s2 = image_collection.filterBounds(geometry).map(lambda image: image.clip(geometry))\n",
    "\n",
    "    # Calculate NDVI for each image at sampled points\n",
    "    def calculate_ndvi_at_point(feature):\n",
    "        try:\n",
    "            # Get the first image in the collection\n",
    "            image = ee.Image(clipped_s2.first())\n",
    "            \n",
    "            # Check if the image has the required bands\n",
    "            if not image.bandNames().contains('B8') or not image.bandNames().contains('B4'):\n",
    "                raise ValueError(\"Image does not contain required bands 'B8' and 'B4'\")\n",
    "            \n",
    "            # Calculate NDVI\n",
    "            ndvi = image.normalizedDifference(['B8', 'B4']).rename('NDVI')\n",
    "            \n",
    "            # Reduce region to get NDVI value at each point\n",
    "            return feature.set('NDVI', ndvi.reduceRegion(reducer=ee.Reducer.first(), geometry=feature.geometry(), scale=10).get('NDVI'))\n",
    "        except ee.EEException as e:\n",
    "            print(f'Error calculating NDVI for Plot {plot_id}: {str(e)}')\n",
    "            return feature.set('NDVI', None)\n",
    "        except ValueError as e:\n",
    "            print(f'Error: {str(e)}')\n",
    "            return feature.set('NDVI', None)\n",
    "\n",
    "    ndvi_points = random_points.map(calculate_ndvi_at_point)\n",
    "\n",
    "    # Prepare data for CSV\n",
    "    data = []\n",
    "\n",
    "    # Iterate over sampled points\n",
    "    for point in ndvi_points.getInfo()['features']:\n",
    "        coords = point['geometry']['coordinates']\n",
    "        ndvi_value = point['properties']['NDVI']\n",
    "        \n",
    "        # Check if NDVI value exists\n",
    "        if ndvi_value is not None:\n",
    "            data.append({\n",
    "                'Longitude': coords[0],\n",
    "                'Latitude': coords[1],\n",
    "                'NDVI': ndvi_value,\n",
    "                'Plot_ID': plot_id,\n",
    "                'Month': month_name\n",
    "            })\n",
    "\n",
    "    # Create DataFrame\n",
    "    df = pd.DataFrame(data)\n",
    "\n",
    "    # Export to CSV\n",
    "    csv_filename = f'{plot_id}_{month_name}_sampled_points_with_NDVI.csv'\n",
    "    df.to_csv(csv_filename, index=False)\n",
    "    print(f'Exported {csv_filename}')\n",
    "\n",
    "# Sample and export NDVI values for March and April\n",
    "for feature in fc.toList(fc.size()).getInfo():\n",
    "    sample_and_export_ndvi(ee.Feature(feature), s2_march, 'March')\n",
    "    sample_and_export_ndvi(ee.Feature(feature), s2_april, 'April')\n"
   ]
  },
  {
   "cell_type": "code",
   "execution_count": null,
   "id": "c4472bb0-fb1e-496d-8cd7-1323e59dc3bc",
   "metadata": {},
   "outputs": [],
   "source": []
  }
 ],
 "metadata": {
  "kernelspec": {
   "display_name": "Python 3 (ipykernel)",
   "language": "python",
   "name": "python3"
  },
  "language_info": {
   "codemirror_mode": {
    "name": "ipython",
    "version": 3
   },
   "file_extension": ".py",
   "mimetype": "text/x-python",
   "name": "python",
   "nbconvert_exporter": "python",
   "pygments_lexer": "ipython3",
   "version": "3.13.2"
  }
 },
 "nbformat": 4,
 "nbformat_minor": 5
}
